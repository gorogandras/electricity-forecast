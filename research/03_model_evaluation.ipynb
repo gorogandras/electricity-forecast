{
 "cells": [
  {
   "cell_type": "code",
   "execution_count": 1,
   "metadata": {},
   "outputs": [],
   "source": [
    "import os"
   ]
  },
  {
   "cell_type": "code",
   "execution_count": 2,
   "metadata": {},
   "outputs": [
    {
     "data": {
      "text/plain": [
       "'/Users/rociocuatecontzi/Desktop/programming/electricity-forecast/research'"
      ]
     },
     "execution_count": 2,
     "metadata": {},
     "output_type": "execute_result"
    }
   ],
   "source": [
    "%pwd"
   ]
  },
  {
   "cell_type": "code",
   "execution_count": 3,
   "metadata": {},
   "outputs": [],
   "source": [
    "os.chdir(\"../\")"
   ]
  },
  {
   "cell_type": "code",
   "execution_count": 4,
   "metadata": {},
   "outputs": [
    {
     "data": {
      "text/plain": [
       "'/Users/rociocuatecontzi/Desktop/programming/electricity-forecast'"
      ]
     },
     "execution_count": 4,
     "metadata": {},
     "output_type": "execute_result"
    }
   ],
   "source": [
    "%pwd"
   ]
  },
  {
   "cell_type": "code",
   "execution_count": null,
   "metadata": {},
   "outputs": [],
   "source": []
  },
  {
   "cell_type": "code",
   "execution_count": 5,
   "metadata": {},
   "outputs": [],
   "source": [
    "os.environ[\"MLFLOW_TRACKING_URI\"]=\"https://dagshub.com/gorogandras/electricity-forecast.mlflow\"\n",
    "os.environ[\"MLFLOW_TRACKING_USERNAME\"]=\"gorogandras\"\n",
    "os.environ[\"MLFLOW_TRACKING_PASSWORD\"]=\"d28d223a6b24642b9af69a8bb4f5c10d96764125\""
   ]
  },
  {
   "cell_type": "code",
   "execution_count": 6,
   "metadata": {},
   "outputs": [],
   "source": [
    "from dataclasses import dataclass\n",
    "from pathlib import Path\n",
    "\n",
    "\n",
    "@dataclass(frozen=True)\n",
    "class ModelEvaluationConfig:\n",
    "    root_dir: Path\n",
    "    test_data_path: Path\n",
    "    train_data_path: Path\n",
    "    model_path: Path\n",
    "    all_params: dict\n",
    "    metric_file_name: Path\n",
    "    target_column: str\n",
    "    columns: str\n",
    "    mlflow_uri: str"
   ]
  },
  {
   "cell_type": "code",
   "execution_count": 7,
   "metadata": {},
   "outputs": [],
   "source": [
    "from eForecaster.constants import *\n",
    "from eForecaster.utils.common import read_yaml, create_directories, save_json"
   ]
  },
  {
   "cell_type": "code",
   "execution_count": 8,
   "metadata": {},
   "outputs": [],
   "source": [
    "class ConfigurationManager:\n",
    "    def __init__(\n",
    "        self,\n",
    "        config_filepath = CONFIG_FILE_PATH,\n",
    "        params_filepath = PARAMS_FILE_PATH,\n",
    "        schema_filepath = SCHEMA_FILE_PATH):\n",
    "\n",
    "        self.config = read_yaml(config_filepath)\n",
    "        self.params = read_yaml(params_filepath)\n",
    "        self.schema = read_yaml(schema_filepath)\n",
    "\n",
    "        create_directories([self.config.artifacts_root])\n",
    "\n",
    "    \n",
    "    def get_model_evaluation_config(self) -> ModelEvaluationConfig:\n",
    "        config = self.config.model_evaluation\n",
    "        params = self.params.XGRBoost\n",
    "        schema =  self.schema\n",
    "\n",
    "        create_directories([config.root_dir])\n",
    "\n",
    "        model_evaluation_config = ModelEvaluationConfig(\n",
    "            root_dir=config.root_dir,\n",
    "            test_data_path=config.test_data_path,\n",
    "            train_data_path=config.train_data_path,\n",
    "            model_path = config.model_path,\n",
    "            all_params=params,\n",
    "            metric_file_name = config.metric_file_name,\n",
    "            target_column = schema.TARGET_COLUMN.name,\n",
    "            columns = schema.COLUMNS,\n",
    "            mlflow_uri=\"https://dagshub.com/gorogandras/electricity-forecast.mlflow\"\n",
    "           \n",
    "        )\n",
    "            \n",
    "\n",
    "        return model_evaluation_config\n"
   ]
  },
  {
   "cell_type": "code",
   "execution_count": 9,
   "metadata": {},
   "outputs": [],
   "source": [
    "import os\n",
    "import pandas as pd\n",
    "from sklearn.metrics import mean_squared_error, mean_absolute_error, r2_score\n",
    "from urllib.parse import urlparse\n",
    "import mlflow\n",
    "import mlflow.sklearn\n",
    "import numpy as np\n",
    "import joblib\n",
    "import seaborn as sns\n",
    "from matplotlib import pyplot as plt"
   ]
  },
  {
   "cell_type": "code",
   "execution_count": 10,
   "metadata": {},
   "outputs": [],
   "source": [
    "\n",
    "class ModelEvaluation:\n",
    "    def __init__(self, config: ModelEvaluationConfig):\n",
    "        self.config = config\n",
    "\n",
    "    \n",
    "    def eval_metrics(self,actual, pred):\n",
    "        rmse = np.sqrt(mean_squared_error(actual, pred))\n",
    "        mae = mean_absolute_error(actual, pred)\n",
    "        r2 = r2_score(actual, pred)\n",
    "        return rmse, mae, r2\n",
    "    \n",
    "\n",
    "\n",
    "    def log_into_mlflow(self):\n",
    "\n",
    "        test_data = pd.read_csv(self.config.test_data_path)\n",
    "        model = joblib.load(self.config.model_path)\n",
    "        test_x = test_data[[item for item in self.config.columns.keys()]]\n",
    "        test_y = test_data[[self.config.target_column]]\n",
    "        \n",
    "        print(test_x)\n",
    "\n",
    "        mlflow.set_registry_uri(self.config.mlflow_uri)\n",
    "        tracking_url_type_store = urlparse(mlflow.get_tracking_uri()).scheme\n",
    "\n",
    "\n",
    "        with mlflow.start_run():\n",
    "\n",
    "            predicted_qualities = model.predict(test_x)\n",
    "\n",
    "            (rmse, mae, r2) = self.eval_metrics(test_y, predicted_qualities)\n",
    "            \n",
    "            # Saving metrics as local\n",
    "            scores = {\"rmse\": rmse, \"mae\": mae, \"r2\": r2}\n",
    "            save_json(path=Path(self.config.metric_file_name), data=scores)\n",
    "\n",
    "            mlflow.log_params(self.config.all_params)\n",
    "\n",
    "            mlflow.log_metric(\"rmse\", rmse)\n",
    "            mlflow.log_metric(\"r2\", r2)\n",
    "            mlflow.log_metric(\"mae\", mae)\n",
    "\n",
    "\n",
    "            # Model registry does not work with file store\n",
    "            if tracking_url_type_store != \"file\":\n",
    "\n",
    "                # Register the model\n",
    "                # There are other ways to use the Model Registry, which depends on the use case,\n",
    "                # please refer to the doc for more information:\n",
    "                # https://mlflow.org/docs/latest/model-registry.html#api-workflow\n",
    "                mlflow.sklearn.log_model(model, \"model\", registered_model_name=\"XGRBoostModel\")\n",
    "            else:\n",
    "                mlflow.sklearn.log_model(model, \"model\")\n",
    "    \n",
    "    def get_scatterplot(self):\n",
    "        test_data = pd.read_csv(self.config.test_data_path)\n",
    "        train_data = pd.read_csv(self.config.train_data_path)\n",
    "        model = joblib.load(self.config.model_path)\n",
    "        test_data = test_data[[\"datetime\", \"power\"]]\n",
    "        train_data = train_data[[\"datetime\", \"power\"]]\n",
    "        start_date = test_data[\"datetime\"].iloc[[0]].values[0]\n",
    "\n",
    "        test_data[\"datetime\"] = pd.to_datetime(test_data[\"datetime\"], \n",
    "                                               format=\"%Y-%m-%d %H:%M:%S\")\n",
    "        train_data[\"datetime\"] = pd.to_datetime(train_data[\"datetime\"], \n",
    "                                               format=\"%Y-%m-%d %H:%M:%S\")\n",
    "        #fig, ax = plt.subplots(figsize=(15,5))\n",
    "        #train_data.plot(ax=ax, label='Training Set', title=\"Data train/Test Split\")\n",
    "        #test_data.plot(ax=ax, label='Test Set')\n",
    "        #ax.axvline(start_date, color='black', ls='--')\n",
    "        #ax.legend(['Training Set', 'Test set'])\n",
    "        test_data['prediction'] = model.predict(test_data['datetime'])\n",
    "        ax = train_data[['power']].plot(figsize=(15,5))\n",
    "        plt.show()\n",
    "        plt.clf() \n",
    "        print(test_data)\n",
    "\n"
   ]
  },
  {
   "cell_type": "code",
   "execution_count": 12,
   "metadata": {},
   "outputs": [
    {
     "name": "stdout",
     "output_type": "stream",
     "text": [
      "[2024-02-01 19:18:35,343: INFO: common: yaml file: config/config.yaml loaded successfully]\n",
      "[2024-02-01 19:18:35,347: INFO: common: yaml file: params.yaml loaded successfully]\n",
      "[2024-02-01 19:18:35,350: INFO: common: yaml file: schema.yaml loaded successfully]\n",
      "[2024-02-01 19:18:35,355: INFO: common: created directory at: artifacts]\n",
      "[2024-02-01 19:18:35,357: INFO: common: created directory at: artifacts/model_evaluation]\n"
     ]
    }
   ],
   "source": [
    "try:\n",
    "    config = ConfigurationManager()\n",
    "    model_evaluation_config = config.get_model_evaluation_config()\n",
    "    model_evaluation_config = ModelEvaluation(config=model_evaluation_config)\n",
    "    #model_evaluation_config.get_scatterplot()\n",
    "except Exception as e:\n",
    "    raise e"
   ]
  },
  {
   "cell_type": "code",
   "execution_count": null,
   "metadata": {},
   "outputs": [],
   "source": []
  },
  {
   "cell_type": "code",
   "execution_count": null,
   "metadata": {},
   "outputs": [],
   "source": []
  },
  {
   "cell_type": "code",
   "execution_count": 20,
   "metadata": {},
   "outputs": [
    {
     "name": "stdout",
     "output_type": "stream",
     "text": [
      "[2024-01-30 22:14:04,722: INFO: common: yaml file: config/config.yaml loaded successfully]\n",
      "[2024-01-30 22:14:04,726: INFO: common: yaml file: params.yaml loaded successfully]\n",
      "[2024-01-30 22:14:04,728: INFO: common: yaml file: schema.yaml loaded successfully]\n",
      "[2024-01-30 22:14:04,730: INFO: common: created directory at: artifacts]\n",
      "[2024-01-30 22:14:04,732: INFO: common: created directory at: artifacts/model_evaluation]\n",
      "       hour  dayofweek  quarter  month  year  dayofyear  minute\n",
      "0         0          0        4     10  2021        277       0\n",
      "1         0          0        4     10  2021        277      15\n",
      "2         0          0        4     10  2021        277      30\n",
      "3         0          0        4     10  2021        277      45\n",
      "4         1          0        4     10  2021        277       0\n",
      "...     ...        ...      ...    ...   ...        ...     ...\n",
      "34940    23          6        4     10  2022        275       0\n",
      "34941    23          6        4     10  2022        275      15\n",
      "34942    23          6        4     10  2022        275      30\n",
      "34943    23          6        4     10  2022        275      45\n",
      "34944     0          0        4     10  2022        276       0\n",
      "\n",
      "[34945 rows x 7 columns]\n",
      "[2024-01-30 22:14:05,787: INFO: common: json file saved at: artifacts/model_evaluation/metrics.json]\n"
     ]
    },
    {
     "name": "stderr",
     "output_type": "stream",
     "text": [
      "/Users/rociocuatecontzi/anaconda3/envs/eforecast/lib/python3.8/site-packages/_distutils_hack/__init__.py:33: UserWarning: Setuptools is replacing distutils.\n",
      "  warnings.warn(\"Setuptools is replacing distutils.\")\n",
      "Registered model 'XGRBoostModel' already exists. Creating a new version of this model...\n",
      "2024/01/30 22:14:16 INFO mlflow.tracking._model_registry.client: Waiting up to 300 seconds for model version to finish creation.                     Model name: XGRBoostModel, version 7\n",
      "Created version '7' of model 'XGRBoostModel'.\n"
     ]
    }
   ],
   "source": [
    "try:\n",
    "    config = ConfigurationManager()\n",
    "    model_evaluation_config = config.get_model_evaluation_config()\n",
    "    model_evaluation_config = ModelEvaluation(config=model_evaluation_config)\n",
    "    model_evaluation_config.log_into_mlflow()\n",
    "    model_evaluation_config.get_scatterplot()\n",
    "except Exception as e:\n",
    "    raise e"
   ]
  },
  {
   "cell_type": "code",
   "execution_count": null,
   "metadata": {},
   "outputs": [],
   "source": []
  },
  {
   "cell_type": "code",
   "execution_count": null,
   "metadata": {},
   "outputs": [],
   "source": []
  }
 ],
 "metadata": {
  "kernelspec": {
   "display_name": "eforecast",
   "language": "python",
   "name": "python3"
  },
  "language_info": {
   "codemirror_mode": {
    "name": "ipython",
    "version": 3
   },
   "file_extension": ".py",
   "mimetype": "text/x-python",
   "name": "python",
   "nbconvert_exporter": "python",
   "pygments_lexer": "ipython3",
   "version": "3.8.18"
  }
 },
 "nbformat": 4,
 "nbformat_minor": 2
}
