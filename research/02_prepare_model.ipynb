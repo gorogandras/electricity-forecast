{
 "cells": [
  {
   "cell_type": "code",
   "execution_count": 1,
   "metadata": {},
   "outputs": [],
   "source": [
    "import os"
   ]
  },
  {
   "cell_type": "code",
   "execution_count": 2,
   "metadata": {},
   "outputs": [
    {
     "data": {
      "text/plain": [
       "'/Users/rociocuatecontzi/Desktop/programming/electricity-forecast/research'"
      ]
     },
     "execution_count": 2,
     "metadata": {},
     "output_type": "execute_result"
    }
   ],
   "source": [
    "%pwd"
   ]
  },
  {
   "cell_type": "code",
   "execution_count": 3,
   "metadata": {},
   "outputs": [],
   "source": [
    "os.chdir(\"../\")"
   ]
  },
  {
   "cell_type": "code",
   "execution_count": null,
   "metadata": {},
   "outputs": [],
   "source": []
  },
  {
   "cell_type": "code",
   "execution_count": 4,
   "metadata": {},
   "outputs": [
    {
     "data": {
      "text/plain": [
       "'/Users/rociocuatecontzi/Desktop/programming/electricity-forecast'"
      ]
     },
     "execution_count": 4,
     "metadata": {},
     "output_type": "execute_result"
    }
   ],
   "source": [
    "%pwd"
   ]
  },
  {
   "cell_type": "code",
   "execution_count": 5,
   "metadata": {},
   "outputs": [],
   "source": [
    "from dataclasses import dataclass\n",
    "from pathlib import Path\n",
    "\n",
    "\n",
    "@dataclass(frozen=True)\n",
    "class TrainingConfig:\n",
    "    root_dir: Path\n",
    "    trained_model_path: Path\n",
    "    training_data: Path\n",
    "    testing_data: Path\n",
    "    params_base_score: float\n",
    "    params_booster: str\n",
    "    params_n_estimators: int\n",
    "    params_early_stopping_rounds: int\n",
    "    params_objective: str\n",
    "    params_max_depth: int\n",
    "    params_learning_rate: float"
   ]
  },
  {
   "cell_type": "code",
   "execution_count": 6,
   "metadata": {},
   "outputs": [],
   "source": [
    "from src.eForecaster.constants import *\n",
    "from eForecaster.utils.common import read_yaml, create_directories"
   ]
  },
  {
   "cell_type": "code",
   "execution_count": 7,
   "metadata": {},
   "outputs": [],
   "source": [
    "import xgboost as xgb\n",
    "import pandas as pd"
   ]
  },
  {
   "cell_type": "code",
   "execution_count": 8,
   "metadata": {},
   "outputs": [],
   "source": [
    "class ConfigurationManager:\n",
    "    def __init__(\n",
    "        self,\n",
    "        config_filepath = CONFIG_FILE_PATH,\n",
    "        params_filepath = PARAMS_FILE_PATH,\n",
    "        schema_filepath = SCHEMA_FILE_PATH):\n",
    "\n",
    "        self.config = read_yaml(config_filepath)\n",
    "        self.params = read_yaml(params_filepath)\n",
    "        self.schema = read_yaml(schema_filepath)\n",
    "\n",
    "        create_directories([self.config.artifacts_root])\n",
    "\n",
    "    def get_training_config(self) -> TrainingConfig:\n",
    "        training = self.config.training\n",
    "        params = self.params.XGRBoost\n",
    "        \n",
    "\n",
    "        create_directories([\n",
    "            Path(training.root_dir)\n",
    "        ])\n",
    "\n",
    "        training_config = TrainingConfig(\n",
    "            root_dir=Path(training.root_dir),\n",
    "            trained_model_path=Path(training.trained_model_path),\n",
    "            training_data=Path(training.train_dataset_path),\n",
    "            testing_data=Path(training.test_dataset_path),\n",
    "            params_base_score= params.BASE_SCORE,\n",
    "            params_booster=params.BOOSTER,\n",
    "            params_n_estimators=params.N_ESTIMATORS,\n",
    "            params_early_stopping_rounds=params.EARLY_STOPPING_ROUNDS,\n",
    "            params_objective=params.OBJECTIVE,\n",
    "            params_max_depth=params.MAX_DEPTH,\n",
    "            params_learning_rate= params.LEARNING_RATE\n",
    "        )\n",
    "        return training_config\n",
    "\n"
   ]
  },
  {
   "cell_type": "code",
   "execution_count": 9,
   "metadata": {},
   "outputs": [],
   "source": [
    "import os\n",
    "import urllib.request as request\n",
    "from zipfile import ZipFile\n",
    "import time\n",
    "import pandas as pd\n",
    "import joblib"
   ]
  },
  {
   "cell_type": "code",
   "execution_count": 10,
   "metadata": {},
   "outputs": [],
   "source": [
    "class Training:\n",
    "    def __init__(self, config: TrainingConfig):\n",
    "        self.config = config\n",
    "    \n",
    "    def get_dataset(self):\n",
    "        self.training_data = self.config.training_data\n",
    "        self.testing_data = self.config.testing_data\n",
    "        df_train = pd.read_csv(self.training_data)\n",
    "        df_test = pd.read_csv(self.testing_data)\n",
    "        return df_train, df_test\n",
    "\n",
    "    def get_features_target(self, df_train, df_test):\n",
    "        FEATURES = ['hour', 'dayofweek', 'quarter', 'month', 'year', 'dayofyear', 'minute']\n",
    "        TARGET = 'power'\n",
    "        X_train = df_train[FEATURES]\n",
    "        y_train = df_train[TARGET]\n",
    "        X_test = df_test[FEATURES]\n",
    "        y_test = df_test[TARGET]\n",
    "        return X_train, y_train, X_test, y_test\n",
    "    \n",
    "    @staticmethod\n",
    "    def save_model(path, model):\n",
    "        joblib.dump(model, path)\n",
    "    def train(self, X_train, y_train, X_test, y_test):\n",
    "        self.model = xgb.XGBRegressor(base_score=self.config.params_base_score,\n",
    "                                      booster=self.config.params_booster,\n",
    "                                      estimators=self.config.params_n_estimators,\n",
    "                                      objective=self.config.params_objective,\n",
    "                                      max_depth=self.config.params_max_depth,\n",
    "                                      learning_rate=self.config.params_learning_rate)\n",
    "        self.model.fit(\n",
    "            X_train, y_train, eval_set=[(X_train, y_train), (X_test, y_test)]\n",
    "        )\n",
    "        self.save_model(\n",
    "            path=self.config.trained_model_path,\n",
    "            model = self.model\n",
    "        )\n",
    "        pass"
   ]
  },
  {
   "cell_type": "code",
   "execution_count": 11,
   "metadata": {},
   "outputs": [
    {
     "name": "stdout",
     "output_type": "stream",
     "text": [
      "[2024-01-28 13:36:55,342: INFO: common: yaml file: config/config.yaml loaded successfully]\n",
      "[2024-01-28 13:36:55,345: INFO: common: yaml file: params.yaml loaded successfully]\n",
      "[2024-01-28 13:36:55,348: INFO: common: yaml file: schema.yaml loaded successfully]\n",
      "[2024-01-28 13:36:55,350: INFO: common: created directory at: artifacts]\n",
      "[2024-01-28 13:36:55,354: INFO: common: created directory at: artifacts/training]\n",
      "[0]\tvalidation_0-rmse:4698.26670\tvalidation_1-rmse:5026.74335\n",
      "[1]\tvalidation_0-rmse:4651.69420\tvalidation_1-rmse:4979.88995\n",
      "[2]\tvalidation_0-rmse:4605.59175\tvalidation_1-rmse:4933.51840\n",
      "[3]\tvalidation_0-rmse:4559.95423\tvalidation_1-rmse:4887.60644\n",
      "[4]\tvalidation_0-rmse:4514.77739\tvalidation_1-rmse:4842.48284\n",
      "[5]\tvalidation_0-rmse:4470.05609\tvalidation_1-rmse:4797.49167\n",
      "[6]\tvalidation_0-rmse:4425.78647\tvalidation_1-rmse:4753.27499\n"
     ]
    },
    {
     "name": "stderr",
     "output_type": "stream",
     "text": [
      "/Users/rociocuatecontzi/anaconda3/envs/eforecast/lib/python3.8/site-packages/xgboost/core.py:160: UserWarning: [13:36:55] WARNING: /Users/runner/work/xgboost/xgboost/src/objective/regression_obj.cu:209: reg:linear is now deprecated in favor of reg:squarederror.\n",
      "  warnings.warn(smsg, UserWarning)\n",
      "/Users/rociocuatecontzi/anaconda3/envs/eforecast/lib/python3.8/site-packages/xgboost/core.py:160: UserWarning: [13:36:55] WARNING: /Users/runner/work/xgboost/xgboost/src/learner.cc:742: \n",
      "Parameters: { \"estimators\" } are not used.\n",
      "\n",
      "  warnings.warn(smsg, UserWarning)\n"
     ]
    },
    {
     "name": "stdout",
     "output_type": "stream",
     "text": [
      "[7]\tvalidation_0-rmse:4381.96346\tvalidation_1-rmse:4709.18263\n",
      "[8]\tvalidation_0-rmse:4338.58790\tvalidation_1-rmse:4665.74835\n",
      "[9]\tvalidation_0-rmse:4295.64424\tvalidation_1-rmse:4622.84680\n",
      "[10]\tvalidation_0-rmse:4253.13833\tvalidation_1-rmse:4580.04038\n",
      "[11]\tvalidation_0-rmse:4211.05685\tvalidation_1-rmse:4538.00244\n",
      "[12]\tvalidation_0-rmse:4169.40534\tvalidation_1-rmse:4496.29520\n",
      "[13]\tvalidation_0-rmse:4128.17357\tvalidation_1-rmse:4454.74452\n",
      "[14]\tvalidation_0-rmse:4087.35787\tvalidation_1-rmse:4412.75039\n",
      "[15]\tvalidation_0-rmse:4046.94902\tvalidation_1-rmse:4372.39904\n",
      "[16]\tvalidation_0-rmse:4006.95411\tvalidation_1-rmse:4332.33017\n",
      "[17]\tvalidation_0-rmse:3967.36255\tvalidation_1-rmse:4291.56657\n",
      "[18]\tvalidation_0-rmse:3928.16519\tvalidation_1-rmse:4252.42768\n",
      "[19]\tvalidation_0-rmse:3889.36971\tvalidation_1-rmse:4213.32900\n",
      "[20]\tvalidation_0-rmse:3850.96429\tvalidation_1-rmse:4174.11301\n",
      "[21]\tvalidation_0-rmse:3812.94910\tvalidation_1-rmse:4136.04363\n",
      "[22]\tvalidation_0-rmse:3775.31811\tvalidation_1-rmse:4097.57644\n",
      "[23]\tvalidation_0-rmse:3738.06566\tvalidation_1-rmse:4060.36871\n",
      "[24]\tvalidation_0-rmse:3701.19209\tvalidation_1-rmse:4023.44497\n",
      "[25]\tvalidation_0-rmse:3664.69126\tvalidation_1-rmse:3985.81265\n",
      "[26]\tvalidation_0-rmse:3628.56131\tvalidation_1-rmse:3949.51086\n",
      "[27]\tvalidation_0-rmse:3592.79333\tvalidation_1-rmse:3913.80172\n",
      "[28]\tvalidation_0-rmse:3557.38968\tvalidation_1-rmse:3877.58517\n",
      "[29]\tvalidation_0-rmse:3522.34221\tvalidation_1-rmse:3842.58038\n",
      "[30]\tvalidation_0-rmse:3487.65200\tvalidation_1-rmse:3806.77647\n",
      "[31]\tvalidation_0-rmse:3453.31409\tvalidation_1-rmse:3772.29682\n",
      "[32]\tvalidation_0-rmse:3419.32306\tvalidation_1-rmse:3737.79322\n",
      "[33]\tvalidation_0-rmse:3385.67784\tvalidation_1-rmse:3703.46688\n",
      "[34]\tvalidation_0-rmse:3352.36889\tvalidation_1-rmse:3670.21895\n",
      "[35]\tvalidation_0-rmse:3319.40099\tvalidation_1-rmse:3636.97089\n",
      "[36]\tvalidation_0-rmse:3286.75722\tvalidation_1-rmse:3603.57143\n",
      "[37]\tvalidation_0-rmse:3254.45397\tvalidation_1-rmse:3571.09697\n",
      "[38]\tvalidation_0-rmse:3222.47992\tvalidation_1-rmse:3538.95732\n",
      "[39]\tvalidation_0-rmse:3190.82569\tvalidation_1-rmse:3506.85472\n",
      "[40]\tvalidation_0-rmse:3159.49591\tvalidation_1-rmse:3475.04622\n",
      "[41]\tvalidation_0-rmse:3128.48545\tvalidation_1-rmse:3443.10713\n",
      "[42]\tvalidation_0-rmse:3097.78843\tvalidation_1-rmse:3412.44652\n",
      "[43]\tvalidation_0-rmse:3067.40342\tvalidation_1-rmse:3381.81380\n",
      "[44]\tvalidation_0-rmse:3037.32850\tvalidation_1-rmse:3350.87289\n",
      "[45]\tvalidation_0-rmse:3007.54637\tvalidation_1-rmse:3321.13218\n",
      "[46]\tvalidation_0-rmse:2978.07815\tvalidation_1-rmse:3290.94813\n",
      "[47]\tvalidation_0-rmse:2948.90956\tvalidation_1-rmse:3261.54718\n",
      "[48]\tvalidation_0-rmse:2920.02623\tvalidation_1-rmse:3232.49521\n",
      "[49]\tvalidation_0-rmse:2891.44932\tvalidation_1-rmse:3203.28430\n",
      "[50]\tvalidation_0-rmse:2863.15054\tvalidation_1-rmse:3175.05304\n",
      "[51]\tvalidation_0-rmse:2835.15226\tvalidation_1-rmse:3146.91932\n",
      "[52]\tvalidation_0-rmse:2807.41657\tvalidation_1-rmse:3119.13660\n",
      "[53]\tvalidation_0-rmse:2779.98361\tvalidation_1-rmse:3090.98601\n",
      "[54]\tvalidation_0-rmse:2752.80999\tvalidation_1-rmse:3063.76630\n",
      "[55]\tvalidation_0-rmse:2725.93282\tvalidation_1-rmse:3036.86179\n",
      "[56]\tvalidation_0-rmse:2699.30982\tvalidation_1-rmse:3009.69877\n",
      "[57]\tvalidation_0-rmse:2672.95885\tvalidation_1-rmse:2983.24586\n",
      "[58]\tvalidation_0-rmse:2646.89466\tvalidation_1-rmse:2956.94149\n",
      "[59]\tvalidation_0-rmse:2621.07802\tvalidation_1-rmse:2930.30178\n",
      "[60]\tvalidation_0-rmse:2595.52558\tvalidation_1-rmse:2904.65637\n",
      "[61]\tvalidation_0-rmse:2570.25093\tvalidation_1-rmse:2879.35376\n",
      "[62]\tvalidation_0-rmse:2545.21706\tvalidation_1-rmse:2853.79524\n",
      "[63]\tvalidation_0-rmse:2520.45629\tvalidation_1-rmse:2828.27753\n",
      "[64]\tvalidation_0-rmse:2495.93170\tvalidation_1-rmse:2803.68697\n",
      "[65]\tvalidation_0-rmse:2471.65840\tvalidation_1-rmse:2778.84608\n",
      "[66]\tvalidation_0-rmse:2447.64833\tvalidation_1-rmse:2754.47699\n",
      "[67]\tvalidation_0-rmse:2423.86903\tvalidation_1-rmse:2730.57257\n",
      "[68]\tvalidation_0-rmse:2400.34729\tvalidation_1-rmse:2707.11308\n",
      "[69]\tvalidation_0-rmse:2377.06775\tvalidation_1-rmse:2683.08494\n",
      "[70]\tvalidation_0-rmse:2354.01091\tvalidation_1-rmse:2660.07773\n",
      "[71]\tvalidation_0-rmse:2331.19132\tvalidation_1-rmse:2636.73439\n",
      "[72]\tvalidation_0-rmse:2308.61913\tvalidation_1-rmse:2613.74572\n",
      "[73]\tvalidation_0-rmse:2286.26461\tvalidation_1-rmse:2591.44620\n",
      "[74]\tvalidation_0-rmse:2264.14054\tvalidation_1-rmse:2568.53083\n",
      "[75]\tvalidation_0-rmse:2242.23769\tvalidation_1-rmse:2546.61762\n",
      "[76]\tvalidation_0-rmse:2220.56107\tvalidation_1-rmse:2524.93119\n",
      "[77]\tvalidation_0-rmse:2199.10775\tvalidation_1-rmse:2503.48639\n",
      "[78]\tvalidation_0-rmse:2177.87602\tvalidation_1-rmse:2481.78336\n",
      "[79]\tvalidation_0-rmse:2156.87410\tvalidation_1-rmse:2460.19149\n",
      "[80]\tvalidation_0-rmse:2136.07582\tvalidation_1-rmse:2439.38645\n",
      "[81]\tvalidation_0-rmse:2115.49286\tvalidation_1-rmse:2418.81574\n",
      "[82]\tvalidation_0-rmse:2095.12255\tvalidation_1-rmse:2398.43958\n",
      "[83]\tvalidation_0-rmse:2074.96323\tvalidation_1-rmse:2377.82397\n",
      "[84]\tvalidation_0-rmse:2055.01242\tvalidation_1-rmse:2357.97152\n",
      "[85]\tvalidation_0-rmse:2035.26807\tvalidation_1-rmse:2338.22236\n",
      "[86]\tvalidation_0-rmse:2015.71496\tvalidation_1-rmse:2317.89876\n",
      "[87]\tvalidation_0-rmse:1996.36641\tvalidation_1-rmse:2297.73572\n",
      "[88]\tvalidation_0-rmse:1977.23000\tvalidation_1-rmse:2278.66819\n",
      "[89]\tvalidation_0-rmse:1958.27848\tvalidation_1-rmse:2259.23446\n",
      "[90]\tvalidation_0-rmse:1939.52323\tvalidation_1-rmse:2240.52573\n",
      "[91]\tvalidation_0-rmse:1920.97024\tvalidation_1-rmse:2221.61822\n",
      "[92]\tvalidation_0-rmse:1902.61239\tvalidation_1-rmse:2203.25074\n",
      "[93]\tvalidation_0-rmse:1884.43285\tvalidation_1-rmse:2184.25309\n",
      "[94]\tvalidation_0-rmse:1866.45205\tvalidation_1-rmse:2166.10518\n",
      "[95]\tvalidation_0-rmse:1848.64610\tvalidation_1-rmse:2147.57724\n",
      "[96]\tvalidation_0-rmse:1831.01845\tvalidation_1-rmse:2129.12120\n",
      "[97]\tvalidation_0-rmse:1813.57990\tvalidation_1-rmse:2111.53878\n",
      "[98]\tvalidation_0-rmse:1796.33064\tvalidation_1-rmse:2093.94874\n",
      "[99]\tvalidation_0-rmse:1779.24530\tvalidation_1-rmse:2075.91507\n"
     ]
    }
   ],
   "source": [
    "try:\n",
    "    config = ConfigurationManager()\n",
    "\n",
    "    training_config = config.get_training_config()\n",
    "    training = Training(config=training_config)\n",
    "    df_train, df_test = training.get_dataset()\n",
    "    X_train, y_train, X_test, y_test = training.get_features_target(df_train, df_test)\n",
    "    training.train(X_train, y_train, X_test, y_test)\n",
    "    \n",
    "except Exception as e:\n",
    "    raise e"
   ]
  },
  {
   "cell_type": "code",
   "execution_count": null,
   "metadata": {},
   "outputs": [],
   "source": []
  },
  {
   "cell_type": "code",
   "execution_count": null,
   "metadata": {},
   "outputs": [],
   "source": []
  },
  {
   "cell_type": "code",
   "execution_count": null,
   "metadata": {},
   "outputs": [],
   "source": []
  },
  {
   "cell_type": "code",
   "execution_count": null,
   "metadata": {},
   "outputs": [],
   "source": []
  },
  {
   "cell_type": "code",
   "execution_count": null,
   "metadata": {},
   "outputs": [],
   "source": []
  },
  {
   "cell_type": "code",
   "execution_count": null,
   "metadata": {},
   "outputs": [
    {
     "name": "stdout",
     "output_type": "stream",
     "text": [
      "[2024-01-27 13:32:52,091: INFO: common: yaml file: config/config.yaml loaded successfully]\n",
      "[2024-01-27 13:32:52,093: INFO: common: yaml file: params.yaml loaded successfully]\n",
      "[2024-01-27 13:32:52,095: INFO: common: created directory at: artifacts]\n",
      "[2024-01-27 13:32:52,096: INFO: common: created directory at: artifacts/training]\n",
      "[0]\tvalidation_0-rmse:4698.26670\tvalidation_1-rmse:5026.74335\n",
      "[1]\tvalidation_0-rmse:4651.69420\tvalidation_1-rmse:4979.88995\n",
      "[2]\tvalidation_0-rmse:4605.59175\tvalidation_1-rmse:4933.51840\n",
      "[3]\tvalidation_0-rmse:4559.95423\tvalidation_1-rmse:4887.60644\n",
      "[4]\tvalidation_0-rmse:4514.77739\tvalidation_1-rmse:4842.48284\n",
      "[5]\tvalidation_0-rmse:4470.05609\tvalidation_1-rmse:4797.49167\n",
      "[6]\tvalidation_0-rmse:4425.78647\tvalidation_1-rmse:4753.27499\n"
     ]
    },
    {
     "name": "stderr",
     "output_type": "stream",
     "text": [
      "/Users/rociocuatecontzi/anaconda3/envs/eforecast/lib/python3.8/site-packages/xgboost/core.py:160: UserWarning: [13:32:52] WARNING: /Users/runner/work/xgboost/xgboost/src/objective/regression_obj.cu:209: reg:linear is now deprecated in favor of reg:squarederror.\n",
      "  warnings.warn(smsg, UserWarning)\n",
      "/Users/rociocuatecontzi/anaconda3/envs/eforecast/lib/python3.8/site-packages/xgboost/core.py:160: UserWarning: [13:32:52] WARNING: /Users/runner/work/xgboost/xgboost/src/learner.cc:742: \n",
      "Parameters: { \"estimators\" } are not used.\n",
      "\n",
      "  warnings.warn(smsg, UserWarning)\n"
     ]
    },
    {
     "name": "stdout",
     "output_type": "stream",
     "text": [
      "[7]\tvalidation_0-rmse:4381.96346\tvalidation_1-rmse:4709.18263\n",
      "[8]\tvalidation_0-rmse:4338.58790\tvalidation_1-rmse:4665.74835\n",
      "[9]\tvalidation_0-rmse:4295.64424\tvalidation_1-rmse:4622.84680\n",
      "[10]\tvalidation_0-rmse:4253.13833\tvalidation_1-rmse:4580.04038\n",
      "[11]\tvalidation_0-rmse:4211.05685\tvalidation_1-rmse:4538.00244\n",
      "[12]\tvalidation_0-rmse:4169.40534\tvalidation_1-rmse:4496.29520\n",
      "[13]\tvalidation_0-rmse:4128.17357\tvalidation_1-rmse:4454.74452\n",
      "[14]\tvalidation_0-rmse:4087.35787\tvalidation_1-rmse:4412.75039\n",
      "[15]\tvalidation_0-rmse:4046.94902\tvalidation_1-rmse:4372.39904\n",
      "[16]\tvalidation_0-rmse:4006.95411\tvalidation_1-rmse:4332.33017\n",
      "[17]\tvalidation_0-rmse:3967.36255\tvalidation_1-rmse:4291.56657\n",
      "[18]\tvalidation_0-rmse:3928.16519\tvalidation_1-rmse:4252.42768\n",
      "[19]\tvalidation_0-rmse:3889.36971\tvalidation_1-rmse:4213.32900\n",
      "[20]\tvalidation_0-rmse:3850.96429\tvalidation_1-rmse:4174.11301\n",
      "[21]\tvalidation_0-rmse:3812.94910\tvalidation_1-rmse:4136.04363\n",
      "[22]\tvalidation_0-rmse:3775.31811\tvalidation_1-rmse:4097.57644\n",
      "[23]\tvalidation_0-rmse:3738.06566\tvalidation_1-rmse:4060.36871\n",
      "[24]\tvalidation_0-rmse:3701.19209\tvalidation_1-rmse:4023.44497\n",
      "[25]\tvalidation_0-rmse:3664.69126\tvalidation_1-rmse:3985.81265\n",
      "[26]\tvalidation_0-rmse:3628.56131\tvalidation_1-rmse:3949.51086\n",
      "[27]\tvalidation_0-rmse:3592.79333\tvalidation_1-rmse:3913.80172\n",
      "[28]\tvalidation_0-rmse:3557.38968\tvalidation_1-rmse:3877.58517\n",
      "[29]\tvalidation_0-rmse:3522.34221\tvalidation_1-rmse:3842.58038\n",
      "[30]\tvalidation_0-rmse:3487.65200\tvalidation_1-rmse:3806.77647\n",
      "[31]\tvalidation_0-rmse:3453.31409\tvalidation_1-rmse:3772.29682\n",
      "[32]\tvalidation_0-rmse:3419.32306\tvalidation_1-rmse:3737.79322\n",
      "[33]\tvalidation_0-rmse:3385.67784\tvalidation_1-rmse:3703.46688\n",
      "[34]\tvalidation_0-rmse:3352.36889\tvalidation_1-rmse:3670.21895\n",
      "[35]\tvalidation_0-rmse:3319.40099\tvalidation_1-rmse:3636.97089\n",
      "[36]\tvalidation_0-rmse:3286.75722\tvalidation_1-rmse:3603.57143\n",
      "[37]\tvalidation_0-rmse:3254.45397\tvalidation_1-rmse:3571.09697\n",
      "[38]\tvalidation_0-rmse:3222.47992\tvalidation_1-rmse:3538.95732\n",
      "[39]\tvalidation_0-rmse:3190.82569\tvalidation_1-rmse:3506.85472\n",
      "[40]\tvalidation_0-rmse:3159.49591\tvalidation_1-rmse:3475.04622\n",
      "[41]\tvalidation_0-rmse:3128.48545\tvalidation_1-rmse:3443.10713\n",
      "[42]\tvalidation_0-rmse:3097.78843\tvalidation_1-rmse:3412.44652\n",
      "[43]\tvalidation_0-rmse:3067.40342\tvalidation_1-rmse:3381.81380\n",
      "[44]\tvalidation_0-rmse:3037.32850\tvalidation_1-rmse:3350.87289\n",
      "[45]\tvalidation_0-rmse:3007.54637\tvalidation_1-rmse:3321.13218\n",
      "[46]\tvalidation_0-rmse:2978.07815\tvalidation_1-rmse:3290.94813\n",
      "[47]\tvalidation_0-rmse:2948.90956\tvalidation_1-rmse:3261.54718\n",
      "[48]\tvalidation_0-rmse:2920.02623\tvalidation_1-rmse:3232.49521\n",
      "[49]\tvalidation_0-rmse:2891.44932\tvalidation_1-rmse:3203.28430\n",
      "[50]\tvalidation_0-rmse:2863.15054\tvalidation_1-rmse:3175.05304\n",
      "[51]\tvalidation_0-rmse:2835.15226\tvalidation_1-rmse:3146.91932\n",
      "[52]\tvalidation_0-rmse:2807.41657\tvalidation_1-rmse:3119.13660\n",
      "[53]\tvalidation_0-rmse:2779.98361\tvalidation_1-rmse:3090.98601\n",
      "[54]\tvalidation_0-rmse:2752.80999\tvalidation_1-rmse:3063.76630\n",
      "[55]\tvalidation_0-rmse:2725.93282\tvalidation_1-rmse:3036.86179\n",
      "[56]\tvalidation_0-rmse:2699.30982\tvalidation_1-rmse:3009.69877\n",
      "[57]\tvalidation_0-rmse:2672.95885\tvalidation_1-rmse:2983.24586\n",
      "[58]\tvalidation_0-rmse:2646.89466\tvalidation_1-rmse:2956.94149\n",
      "[59]\tvalidation_0-rmse:2621.07802\tvalidation_1-rmse:2930.30178\n",
      "[60]\tvalidation_0-rmse:2595.52558\tvalidation_1-rmse:2904.65637\n",
      "[61]\tvalidation_0-rmse:2570.25093\tvalidation_1-rmse:2879.35376\n",
      "[62]\tvalidation_0-rmse:2545.21706\tvalidation_1-rmse:2853.79524\n",
      "[63]\tvalidation_0-rmse:2520.45629\tvalidation_1-rmse:2828.27753\n",
      "[64]\tvalidation_0-rmse:2495.93170\tvalidation_1-rmse:2803.68697\n",
      "[65]\tvalidation_0-rmse:2471.65840\tvalidation_1-rmse:2778.84608\n",
      "[66]\tvalidation_0-rmse:2447.64833\tvalidation_1-rmse:2754.47699\n",
      "[67]\tvalidation_0-rmse:2423.86903\tvalidation_1-rmse:2730.57257\n",
      "[68]\tvalidation_0-rmse:2400.34729\tvalidation_1-rmse:2707.11308\n",
      "[69]\tvalidation_0-rmse:2377.06775\tvalidation_1-rmse:2683.08494\n",
      "[70]\tvalidation_0-rmse:2354.01091\tvalidation_1-rmse:2660.07773\n",
      "[71]\tvalidation_0-rmse:2331.19132\tvalidation_1-rmse:2636.73439\n",
      "[72]\tvalidation_0-rmse:2308.61913\tvalidation_1-rmse:2613.74572\n",
      "[73]\tvalidation_0-rmse:2286.26461\tvalidation_1-rmse:2591.44620\n",
      "[74]\tvalidation_0-rmse:2264.14054\tvalidation_1-rmse:2568.53083\n",
      "[75]\tvalidation_0-rmse:2242.23769\tvalidation_1-rmse:2546.61762\n",
      "[76]\tvalidation_0-rmse:2220.56107\tvalidation_1-rmse:2524.93119\n",
      "[77]\tvalidation_0-rmse:2199.10775\tvalidation_1-rmse:2503.48639\n",
      "[78]\tvalidation_0-rmse:2177.87602\tvalidation_1-rmse:2481.78336\n",
      "[79]\tvalidation_0-rmse:2156.87410\tvalidation_1-rmse:2460.19149\n",
      "[80]\tvalidation_0-rmse:2136.07582\tvalidation_1-rmse:2439.38645\n",
      "[81]\tvalidation_0-rmse:2115.49286\tvalidation_1-rmse:2418.81574\n",
      "[82]\tvalidation_0-rmse:2095.12255\tvalidation_1-rmse:2398.43958\n",
      "[83]\tvalidation_0-rmse:2074.96323\tvalidation_1-rmse:2377.82397\n",
      "[84]\tvalidation_0-rmse:2055.01242\tvalidation_1-rmse:2357.97152\n",
      "[85]\tvalidation_0-rmse:2035.26807\tvalidation_1-rmse:2338.22236\n",
      "[86]\tvalidation_0-rmse:2015.71496\tvalidation_1-rmse:2317.89876\n",
      "[87]\tvalidation_0-rmse:1996.36641\tvalidation_1-rmse:2297.73572\n",
      "[88]\tvalidation_0-rmse:1977.23000\tvalidation_1-rmse:2278.66819\n",
      "[89]\tvalidation_0-rmse:1958.27848\tvalidation_1-rmse:2259.23446\n",
      "[90]\tvalidation_0-rmse:1939.52323\tvalidation_1-rmse:2240.52573\n",
      "[91]\tvalidation_0-rmse:1920.97024\tvalidation_1-rmse:2221.61822\n",
      "[92]\tvalidation_0-rmse:1902.61239\tvalidation_1-rmse:2203.25074\n",
      "[93]\tvalidation_0-rmse:1884.43285\tvalidation_1-rmse:2184.25309\n",
      "[94]\tvalidation_0-rmse:1866.45205\tvalidation_1-rmse:2166.10518\n",
      "[95]\tvalidation_0-rmse:1848.64610\tvalidation_1-rmse:2147.57724\n",
      "[96]\tvalidation_0-rmse:1831.01845\tvalidation_1-rmse:2129.12120\n",
      "[97]\tvalidation_0-rmse:1813.57990\tvalidation_1-rmse:2111.53878\n",
      "[98]\tvalidation_0-rmse:1796.33064\tvalidation_1-rmse:2093.94874\n",
      "[99]\tvalidation_0-rmse:1779.24530\tvalidation_1-rmse:2075.91507\n"
     ]
    }
   ],
   "source": [
    "try:\n",
    "    config = ConfigurationManager()\n",
    "\n",
    "    training_config = config.get_training_config()\n",
    "    training = Training(config=training_config)\n",
    "    df_train, df_test = training.get_dataset()\n",
    "    X_train, y_train, X_test, y_test = training.get_features_target(df_train, df_test)\n",
    "    training.train(X_train, y_train, X_test, y_test)\n",
    "    \n",
    "except Exception as e:\n",
    "    raise e"
   ]
  },
  {
   "cell_type": "code",
   "execution_count": null,
   "metadata": {},
   "outputs": [],
   "source": []
  },
  {
   "cell_type": "code",
   "execution_count": null,
   "metadata": {},
   "outputs": [],
   "source": []
  }
 ],
 "metadata": {
  "kernelspec": {
   "display_name": "eforecast",
   "language": "python",
   "name": "python3"
  },
  "language_info": {
   "codemirror_mode": {
    "name": "ipython",
    "version": 3
   },
   "file_extension": ".py",
   "mimetype": "text/x-python",
   "name": "python",
   "nbconvert_exporter": "python",
   "pygments_lexer": "ipython3",
   "version": "3.8.18"
  }
 },
 "nbformat": 4,
 "nbformat_minor": 2
}
