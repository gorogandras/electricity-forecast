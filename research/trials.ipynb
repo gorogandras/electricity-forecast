{
 "cells": [
  {
   "cell_type": "code",
   "execution_count": 7,
   "metadata": {},
   "outputs": [],
   "source": [
    "import os"
   ]
  },
  {
   "cell_type": "code",
   "execution_count": 8,
   "metadata": {},
   "outputs": [
    {
     "data": {
      "text/plain": [
       "'/Users/rociocuatecontzi/Desktop/programming/electricity-forecast/research'"
      ]
     },
     "execution_count": 8,
     "metadata": {},
     "output_type": "execute_result"
    }
   ],
   "source": [
    "%pwd"
   ]
  },
  {
   "cell_type": "code",
   "execution_count": 9,
   "metadata": {},
   "outputs": [
    {
     "data": {
      "text/plain": [
       "'/Users/rociocuatecontzi/Desktop/programming/electricity-forecast'"
      ]
     },
     "execution_count": 9,
     "metadata": {},
     "output_type": "execute_result"
    }
   ],
   "source": [
    "os.chdir('../')\n",
    "%pwd"
   ]
  },
  {
   "cell_type": "code",
   "execution_count": 10,
   "metadata": {},
   "outputs": [],
   "source": [
    "from eForecaster.constants import *\n",
    "from eForecaster.utils.common import read_yaml, create_directories, save_json\n"
   ]
  },
  {
   "cell_type": "code",
   "execution_count": 23,
   "metadata": {},
   "outputs": [
    {
     "name": "stdout",
     "output_type": "stream",
     "text": [
      "[2024-01-28 13:32:33,578: INFO: common: yaml file: schema.yaml loaded successfully]\n",
      "power\n",
      "['hour', 'dayofweek', 'quarter', 'month', 'year', 'dayofyear', 'minute']\n",
      "['hour', 'dayofweek', 'quarter', 'month', 'year', 'dayofyear', 'minute']\n"
     ]
    }
   ],
   "source": [
    "\n",
    "config_filepath = CONFIG_FILE_PATH,\n",
    "params_filepath = PARAMS_FILE_PATH,\n",
    "schema_filepath = SCHEMA_FILE_PATH\n",
    "\n",
    "schema = read_yaml(schema_filepath)\n",
    "\n",
    "\n",
    "schema2 =  schema.TARGET_COLUMN.name\n",
    "schema3 = []\n",
    "for item in schema.COLUMNS.keys():\n",
    "    schema3.append(item)\n",
    "schema4 = [item for item in schema.COLUMNS.keys()]\n",
    "\n",
    "print(schema2)\n",
    "print(schema3)\n",
    "print(schema4)"
   ]
  },
  {
   "cell_type": "code",
   "execution_count": null,
   "metadata": {},
   "outputs": [],
   "source": []
  },
  {
   "cell_type": "code",
   "execution_count": null,
   "metadata": {},
   "outputs": [],
   "source": []
  }
 ],
 "metadata": {
  "kernelspec": {
   "display_name": "eforecast",
   "language": "python",
   "name": "python3"
  },
  "language_info": {
   "codemirror_mode": {
    "name": "ipython",
    "version": 3
   },
   "file_extension": ".py",
   "mimetype": "text/x-python",
   "name": "python",
   "nbconvert_exporter": "python",
   "pygments_lexer": "ipython3",
   "version": "3.8.18"
  }
 },
 "nbformat": 4,
 "nbformat_minor": 2
}
