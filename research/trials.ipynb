{
 "cells": [
  {
   "cell_type": "code",
   "execution_count": 12,
   "metadata": {},
   "outputs": [],
   "source": [
    "import os"
   ]
  },
  {
   "cell_type": "code",
   "execution_count": 13,
   "metadata": {},
   "outputs": [
    {
     "data": {
      "text/plain": [
       "'/Users/rociocuatecontzi/Desktop/programming/electricity-forecast'"
      ]
     },
     "execution_count": 13,
     "metadata": {},
     "output_type": "execute_result"
    }
   ],
   "source": [
    "%pwd"
   ]
  },
  {
   "cell_type": "code",
   "execution_count": 4,
   "metadata": {},
   "outputs": [],
   "source": [
    "os.chdir('../')\n"
   ]
  },
  {
   "cell_type": "code",
   "execution_count": 5,
   "metadata": {},
   "outputs": [
    {
     "data": {
      "text/plain": [
       "'/Users/rociocuatecontzi/Desktop/programming/electricity-forecast'"
      ]
     },
     "execution_count": 5,
     "metadata": {},
     "output_type": "execute_result"
    }
   ],
   "source": [
    "%pwd"
   ]
  },
  {
   "cell_type": "code",
   "execution_count": 6,
   "metadata": {},
   "outputs": [],
   "source": [
    "from src.eForecaster.pipeline.prediction import PredictionPipeline\n",
    "import pandas as pd\n",
    "import numpy as np\n",
    "import joblib\n",
    "from datetime import datetime\n",
    "import seaborn as sns\n",
    "from matplotlib import pyplot as plt"
   ]
  },
  {
   "cell_type": "code",
   "execution_count": 7,
   "metadata": {},
   "outputs": [],
   "source": [
    "moment_to_pred = [['2023-02-13 10:15:00']]\n",
    "df = pd.DataFrame(moment_to_pred, columns=['datetime'])\n",
    "df['datetime'] = pd.to_datetime(df['datetime'], format=\"%Y-%m-%d %H:%M:%S\")\n",
    "\n",
    "df2 = pd.DataFrame()\n",
    "df2['hour'] = df['datetime'].dt.hour\n",
    "df2['dayofweek'] = df['datetime'].dt.dayofweek\n",
    "df2['quarter']  = df['datetime'].dt.quarter\n",
    "df2['month']  = df['datetime'].dt.month\n",
    "df2['year']  = df['datetime'].dt.year\n",
    "df2['dayofyear']  = df['datetime'].dt.dayofyear\n",
    "df2['minute']  = df['datetime'].dt.minute\n",
    "#data = [hour[0], dayofweek[0], quarter[0], month[0], year[0], dayofyear[0], minute[0]]\n",
    "#print(data)\n",
    "#data = np.array(data).reshape(1, 7)\n"
   ]
  },
  {
   "cell_type": "code",
   "execution_count": 37,
   "metadata": {},
   "outputs": [],
   "source": [
    "import os\n",
    "import pandas as pd\n",
    "import numpy as np\n",
    "import joblib\n",
    "from datetime import datetime\n",
    "import seaborn as sns\n",
    "from matplotlib import pyplot as plt\n",
    "#from src.eForecaster.entity.config_entity import PlotConfig\n",
    "#from src.eForecaster.config.configuration import ConfigurationManager\n",
    "from src.eForecaster import logger\n",
    "from pathlib import Path\n",
    "from dataclasses import dataclass\n",
    "from src.eForecaster.constants import *\n",
    "from eForecaster.utils.common import read_yaml, create_directories\n",
    "\n",
    "@dataclass(frozen=True)\n",
    "class PlotConfig:\n",
    "    root_dir: Path\n",
    "    model_path: Path\n",
    "    test_data_path: Path\n",
    "    scatterplot_path: Path\n",
    "    target_column: str\n",
    "    columns: str\n",
    "\n",
    "class ConfigurationManager:\n",
    "    def __init__(\n",
    "        self,\n",
    "        config_filepath = CONFIG_FILE_PATH,\n",
    "        params_filepath = PARAMS_FILE_PATH,\n",
    "        schema_filepath = SCHEMA_FILE_PATH):\n",
    "\n",
    "        self.config = read_yaml(config_filepath)\n",
    "        self.params = read_yaml(params_filepath)\n",
    "        self.schema = read_yaml(schema_filepath)\n",
    "        create_directories([self.config.artifacts_root])\n",
    "\n",
    "    def get_plot_config(self) -> PlotConfig:\n",
    "        config = self.config.plotting\n",
    "\n",
    "        schema = self.schema\n",
    "        create_directories([\n",
    "            Path(config.root_dir)\n",
    "        ])\n",
    "        plot_config = PlotConfig(\n",
    "            root_dir=config.root_dir,\n",
    "            model_path = config.model_path,\n",
    "            test_data_path = config.test_data_path,\n",
    "            scatterplot_path = config.scatterplot_path,\n",
    "            target_column = schema.TARGET_COLUMN.name,\n",
    "            columns = schema.COLUMNS\n",
    "        )\n",
    "        return plot_config\n",
    "\n",
    "\n",
    "class Plotting:\n",
    "    def __init__(self, config: PlotConfig):\n",
    "        self.config = config\n",
    "    def create_datetime_df(self, start_date: str, end_date: str):\n",
    "        start_date = datetime.strptime(start_date, \"%Y-%m-%d %H:%M:%S\")\n",
    "        end_date = datetime.strptime(end_date,\"%Y-%m-%d %H:%M:%S\")\n",
    "        datetime_df = pd.date_range(start_date, end_date, freq='15min')\n",
    "        datetime_df = datetime_df.to_frame(index=False, name=\"datetime\")\n",
    "        return datetime_df\n",
    "    \n",
    "    def create_prediction_df(self, df):\n",
    "        df['hour'] = df.datetime.dt.hour\n",
    "        df['dayofweek'] = df.datetime.dt.dayofweek\n",
    "        df['quarter'] = df.datetime.dt.quarter\n",
    "        df['month'] = df.datetime.dt.month\n",
    "        df['year'] = df.datetime.dt.year\n",
    "        df['dayofyear'] = df.datetime.dt.dayofyear\n",
    "        df['minute'] = df.datetime.dt.minute\n",
    "        return df\n",
    "        \n",
    "\n",
    "    def get_prediction(self, df):\n",
    "        df_copy = df.copy()\n",
    "        model = joblib.load(self.config.model_path)\n",
    "        df_to_predict = df[[item for item in self.config.columns.keys()]]\n",
    "        prediction = model.predict(df_to_predict)\n",
    "        df_copy['prediction'] = prediction\n",
    "        return df_copy\n",
    "    \n",
    "\n",
    "    def get_scatterplot(self, df):\n",
    "        ax = sns.scatterplot(data=df, x='datetime', y='prediction')\n",
    "        plt.title('placeholder title')\n",
    "        plt.savefig(Path(self.config.scatterplot_path))\n",
    "        plt.show()\n",
    "        plt.clf()"
   ]
  },
  {
   "cell_type": "code",
   "execution_count": null,
   "metadata": {},
   "outputs": [],
   "source": []
  },
  {
   "cell_type": "code",
   "execution_count": null,
   "metadata": {},
   "outputs": [],
   "source": []
  },
  {
   "cell_type": "code",
   "execution_count": 38,
   "metadata": {},
   "outputs": [
    {
     "name": "stdout",
     "output_type": "stream",
     "text": [
      "[2024-02-13 20:39:16,516: INFO: 1504122080: >>>>>> stage Plotting started <<<<<<]\n",
      "[2024-02-13 20:39:16,525: INFO: common: yaml file: config/config.yaml loaded successfully]\n",
      "[2024-02-13 20:39:16,528: INFO: common: yaml file: params.yaml loaded successfully]\n",
      "[2024-02-13 20:39:16,531: INFO: common: yaml file: schema.yaml loaded successfully]\n",
      "[2024-02-13 20:39:16,532: INFO: common: created directory at: artifacts]\n",
      "[2024-02-13 20:39:16,533: INFO: common: created directory at: artifacts/plotting]\n"
     ]
    },
    {
     "data": {
      "image/png": "[encoded data removed]",
      "text/plain": [
       "<Figure size 640x480 with 1 Axes>"
      ]
     },
     "metadata": {},
     "output_type": "display_data"
    },
    {
     "name": "stdout",
     "output_type": "stream",
     "text": [
      "               datetime  hour  dayofweek  quarter  month  year  dayofyear  \\\n",
      "0   2023-02-13 10:15:00    10          0        1      2  2023         44   \n",
      "1   2023-02-13 10:30:00    10          0        1      2  2023         44   \n",
      "2   2023-02-13 10:45:00    10          0        1      2  2023         44   \n",
      "3   2023-02-13 11:00:00    11          0        1      2  2023         44   \n",
      "4   2023-02-13 11:15:00    11          0        1      2  2023         44   \n",
      "..                  ...   ...        ...      ...    ...   ...        ...   \n",
      "188 2023-02-15 09:15:00     9          2        1      2  2023         46   \n",
      "189 2023-02-15 09:30:00     9          2        1      2  2023         46   \n",
      "190 2023-02-15 09:45:00     9          2        1      2  2023         46   \n",
      "191 2023-02-15 10:00:00    10          2        1      2  2023         46   \n",
      "192 2023-02-15 10:15:00    10          2        1      2  2023         46   \n",
      "\n",
      "     minute   prediction  \n",
      "0        15  5911.859375  \n",
      "1        30  5927.017578  \n",
      "2        45  5927.017578  \n",
      "3         0  5936.930176  \n",
      "4        15  5936.930176  \n",
      "..      ...          ...  \n",
      "188      15  5979.351074  \n",
      "189      30  5992.584473  \n",
      "190      45  5992.584473  \n",
      "191       0  6001.726562  \n",
      "192      15  6001.726562  \n",
      "\n",
      "[193 rows x 9 columns]\n",
      "[2024-02-13 20:39:17,085: INFO: 1504122080: >>>>>> stage Plotting completed <<<<<<\n",
      "\n",
      "x==========x]\n"
     ]
    },
    {
     "data": {
      "text/plain": [
       "<Figure size 640x480 with 0 Axes>"
      ]
     },
     "metadata": {},
     "output_type": "display_data"
    }
   ],
   "source": [
    "STAGE_NAME = \"Plotting\"\n",
    "class PlottingPipeline:\n",
    "    def __init__(self):\n",
    "        pass\n",
    "\n",
    "    def main(self):\n",
    "        config = ConfigurationManager()\n",
    "        plot_config = config.get_plot_config()\n",
    "        plotting = Plotting(config=plot_config)\n",
    "        datetime_df = plotting.create_datetime_df(\"2023-02-13 10:15:00\", \"2023-02-15 10:15:00\")\n",
    "        prediction_df = plotting.create_prediction_df(datetime_df)\n",
    "        predicted_df = plotting.get_prediction(prediction_df)\n",
    "        plotting.get_scatterplot(predicted_df)\n",
    "        #print(datetime_df)\n",
    "        print(predicted_df)\n",
    "\n",
    "\n",
    "if __name__ == '__main__':\n",
    "    try:\n",
    "        logger.info(f\">>>>>> stage {STAGE_NAME} started <<<<<<\")\n",
    "        obj = PlottingPipeline()\n",
    "        obj.main()\n",
    "        logger.info(f\">>>>>> stage {STAGE_NAME} completed <<<<<<\\n\\nx==========x\")\n",
    "    except Exception as e:\n",
    "        logger.exception(e)\n",
    "        raise e"
   ]
  },
  {
   "cell_type": "code",
   "execution_count": null,
   "metadata": {},
   "outputs": [],
   "source": []
  },
  {
   "cell_type": "code",
   "execution_count": null,
   "metadata": {},
   "outputs": [],
   "source": []
  },
  {
   "cell_type": "code",
   "execution_count": null,
   "metadata": {},
   "outputs": [],
   "source": []
  },
  {
   "cell_type": "code",
   "execution_count": 76,
   "metadata": {},
   "outputs": [
    {
     "ename": "TypeError",
     "evalue": "strptime() argument 1 must be str, not list",
     "output_type": "error",
     "traceback": [
      "\u001b[0;31m---------------------------------------------------------------------------\u001b[0m",
      "\u001b[0;31mTypeError\u001b[0m                                 Traceback (most recent call last)",
      "Cell \u001b[0;32mIn[76], line 1\u001b[0m\n\u001b[0;32m----> 1\u001b[0m datetime_object \u001b[38;5;241m=\u001b[39m \u001b[43mdatetime\u001b[49m\u001b[38;5;241;43m.\u001b[39;49m\u001b[43mstrptime\u001b[49m\u001b[43m(\u001b[49m\u001b[43mmoment_to_pred\u001b[49m\u001b[43m,\u001b[49m\u001b[43m \u001b[49m\u001b[38;5;124;43m\"\u001b[39;49m\u001b[38;5;124;43m%\u001b[39;49m\u001b[38;5;124;43mY-\u001b[39;49m\u001b[38;5;124;43m%\u001b[39;49m\u001b[38;5;124;43mm-\u001b[39;49m\u001b[38;5;132;43;01m%d\u001b[39;49;00m\u001b[38;5;124;43m \u001b[39;49m\u001b[38;5;124;43m%\u001b[39;49m\u001b[38;5;124;43mH:\u001b[39;49m\u001b[38;5;124;43m%\u001b[39;49m\u001b[38;5;124;43mM:\u001b[39;49m\u001b[38;5;124;43m%\u001b[39;49m\u001b[38;5;124;43mS\u001b[39;49m\u001b[38;5;124;43m\"\u001b[39;49m\u001b[43m)\u001b[49m\n\u001b[1;32m      2\u001b[0m datetime_object\n",
      "\u001b[0;31mTypeError\u001b[0m: strptime() argument 1 must be str, not list"
     ]
    }
   ],
   "source": [
    "#datetime_object = datetime.strptime(moment_to_pred, \"%Y-%m-%d %H:%M:%S\")\n",
    "#datetime_object"
   ]
  },
  {
   "cell_type": "code",
   "execution_count": 90,
   "metadata": {},
   "outputs": [
    {
     "name": "stdout",
     "output_type": "stream",
     "text": [
      "[['2023-02-13 10:15:00']]\n"
     ]
    }
   ],
   "source": [
    "print(moment_to_pred)"
   ]
  },
  {
   "cell_type": "code",
   "execution_count": 91,
   "metadata": {},
   "outputs": [
    {
     "data": {
      "text/html": [
       "<div>\n",
       "<style scoped>\n",
       "    .dataframe tbody tr th:only-of-type {\n",
       "        vertical-align: middle;\n",
       "    }\n",
       "\n",
       "    .dataframe tbody tr th {\n",
       "        vertical-align: top;\n",
       "    }\n",
       "\n",
       "    .dataframe thead th {\n",
       "        text-align: right;\n",
       "    }\n",
       "</style>\n",
       "<table border=\"1\" class=\"dataframe\">\n",
       "  <thead>\n",
       "    <tr style=\"text-align: right;\">\n",
       "      <th></th>\n",
       "      <th>hour</th>\n",
       "      <th>dayofweek</th>\n",
       "      <th>quarter</th>\n",
       "      <th>month</th>\n",
       "      <th>year</th>\n",
       "      <th>dayofyear</th>\n",
       "      <th>minute</th>\n",
       "    </tr>\n",
       "  </thead>\n",
       "  <tbody>\n",
       "    <tr>\n",
       "      <th>0</th>\n",
       "      <td>10</td>\n",
       "      <td>0</td>\n",
       "      <td>1</td>\n",
       "      <td>2</td>\n",
       "      <td>2023</td>\n",
       "      <td>44</td>\n",
       "      <td>15</td>\n",
       "    </tr>\n",
       "  </tbody>\n",
       "</table>\n",
       "</div>"
      ],
      "text/plain": [
       "   hour  dayofweek  quarter  month  year  dayofyear  minute\n",
       "0    10          0        1      2  2023         44      15"
      ]
     },
     "execution_count": 91,
     "metadata": {},
     "output_type": "execute_result"
    }
   ],
   "source": [
    "df2"
   ]
  },
  {
   "cell_type": "code",
   "execution_count": 92,
   "metadata": {},
   "outputs": [
    {
     "name": "stdout",
     "output_type": "stream",
     "text": [
      "[5911.8594]\n"
     ]
    }
   ],
   "source": [
    "obj = PredictionPipeline()\n",
    "predict = obj.predict(df2)\n",
    "print(predict)"
   ]
  },
  {
   "cell_type": "code",
   "execution_count": 73,
   "metadata": {},
   "outputs": [
    {
     "name": "stdout",
     "output_type": "stream",
     "text": [
      "[5324.0454]\n"
     ]
    }
   ],
   "source": [
    "print(str(predict))"
   ]
  },
  {
   "cell_type": "code",
   "execution_count": null,
   "metadata": {},
   "outputs": [],
   "source": []
  },
  {
   "cell_type": "code",
   "execution_count": 10,
   "metadata": {},
   "outputs": [],
   "source": [
    "from eForecaster.constants import *\n",
    "from eForecaster.utils.common import read_yaml, create_directories, save_json\n"
   ]
  },
  {
   "cell_type": "code",
   "execution_count": 23,
   "metadata": {},
   "outputs": [
    {
     "name": "stdout",
     "output_type": "stream",
     "text": [
      "[2024-01-28 13:32:33,578: INFO: common: yaml file: schema.yaml loaded successfully]\n",
      "power\n",
      "['hour', 'dayofweek', 'quarter', 'month', 'year', 'dayofyear', 'minute']\n",
      "['hour', 'dayofweek', 'quarter', 'month', 'year', 'dayofyear', 'minute']\n"
     ]
    }
   ],
   "source": [
    "\n",
    "config_filepath = CONFIG_FILE_PATH,\n",
    "params_filepath = PARAMS_FILE_PATH,\n",
    "schema_filepath = SCHEMA_FILE_PATH\n",
    "\n",
    "schema = read_yaml(schema_filepath)\n",
    "\n",
    "\n",
    "schema2 =  schema.TARGET_COLUMN.name\n",
    "schema3 = []\n",
    "for item in schema.COLUMNS.keys():\n",
    "    schema3.append(item)\n",
    "schema4 = [item for item in schema.COLUMNS.keys()]\n",
    "\n",
    "print(schema2)\n",
    "print(schema3)\n",
    "print(schema4)"
   ]
  },
  {
   "cell_type": "code",
   "execution_count": null,
   "metadata": {},
   "outputs": [],
   "source": []
  },
  {
   "cell_type": "code",
   "execution_count": null,
   "metadata": {},
   "outputs": [],
   "source": []
  }
 ],
 "metadata": {
  "kernelspec": {
   "display_name": "eforecast",
   "language": "python",
   "name": "python3"
  },
  "language_info": {
   "codemirror_mode": {
    "name": "ipython",
    "version": 3
   },
   "file_extension": ".py",
   "mimetype": "text/x-python",
   "name": "python",
   "nbconvert_exporter": "python",
   "pygments_lexer": "ipython3",
   "version": "3.8.18"
  }
 },
 "nbformat": 4,
 "nbformat_minor": 2
}
