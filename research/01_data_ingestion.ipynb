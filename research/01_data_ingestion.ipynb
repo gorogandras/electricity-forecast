{
 "cells": [
  {
   "cell_type": "code",
   "execution_count": 26,
   "metadata": {},
   "outputs": [],
   "source": [
    "import os\n"
   ]
  },
  {
   "cell_type": "code",
   "execution_count": 27,
   "metadata": {},
   "outputs": [
    {
     "data": {
      "text/plain": [
       "'/Users/rociocuatecontzi/Desktop/programming/electricity-forecast'"
      ]
     },
     "execution_count": 27,
     "metadata": {},
     "output_type": "execute_result"
    }
   ],
   "source": [
    "%pwd"
   ]
  },
  {
   "cell_type": "code",
   "execution_count": 3,
   "metadata": {},
   "outputs": [],
   "source": [
    "os.chdir(\"../\")"
   ]
  },
  {
   "cell_type": "code",
   "execution_count": 34,
   "metadata": {},
   "outputs": [],
   "source": [
    "from dataclasses import dataclass\n",
    "from pathlib import Path\n",
    "\n",
    "\n",
    "@dataclass(frozen=True)\n",
    "class DataIngestionConfig:\n",
    "    root_dir: Path\n",
    "    source_URL: str\n",
    "    local_data_file: Path\n",
    "    unzip_dir: Path\n",
    "    csv_name: Path"
   ]
  },
  {
   "cell_type": "code",
   "execution_count": 35,
   "metadata": {},
   "outputs": [],
   "source": [
    "from src.eForecaster.constants import *\n",
    "from eForecaster.utils.common import read_yaml, create_directories"
   ]
  },
  {
   "cell_type": "code",
   "execution_count": null,
   "metadata": {},
   "outputs": [],
   "source": []
  },
  {
   "cell_type": "code",
   "execution_count": 49,
   "metadata": {},
   "outputs": [],
   "source": [
    "class ConfigurationManager:\n",
    "    def __init__(\n",
    "        self,\n",
    "        config_filepath = CONFIG_FILE_PATH,\n",
    "        params_filepath = PARAMS_FILE_PATH):\n",
    "\n",
    "        self.config = read_yaml(config_filepath)\n",
    "        self.params = read_yaml(params_filepath)\n",
    "\n",
    "        create_directories([self.config.artifacts_root])\n",
    "\n",
    "\n",
    "    \n",
    "    def get_data_ingestion_config(self) -> DataIngestionConfig:\n",
    "        config = self.config.data_ingestion\n",
    "\n",
    "        create_directories([config.root_dir])\n",
    "\n",
    "        data_ingestion_config = DataIngestionConfig(\n",
    "            root_dir=config.root_dir,\n",
    "            source_URL=config.source_URL,\n",
    "            local_data_file=config.local_data_file,\n",
    "            unzip_dir=config.unzip_dir,\n",
    "            csv_name=config.csv_name \n",
    "        )\n",
    "\n",
    "        return data_ingestion_config\n",
    "      "
   ]
  },
  {
   "cell_type": "code",
   "execution_count": 50,
   "metadata": {},
   "outputs": [],
   "source": [
    "import os\n",
    "import urllib.request as request\n",
    "import zipfile\n",
    "from eForecaster import logger\n",
    "from eForecaster.utils.common import get_size\n",
    "import pandas as pd"
   ]
  },
  {
   "cell_type": "code",
   "execution_count": 77,
   "metadata": {},
   "outputs": [],
   "source": [
    "class DataIngestion:\n",
    "    def __init__(self, config: DataIngestionConfig):\n",
    "        self.config = config\n",
    "\n",
    "\n",
    "    \n",
    "    def download_file(self):\n",
    "        if not os.path.exists(self.config.local_data_file):\n",
    "            filename, headers = request.urlretrieve(\n",
    "                url = self.config.source_URL,\n",
    "                filename = self.config.local_data_file\n",
    "            )\n",
    "            logger.info(f\"{filename} download! with following info: \\n{headers}\")\n",
    "        else:\n",
    "            logger.info(f\"File already exists of size: {get_size(Path(self.config.local_data_file))}\")  \n",
    "\n",
    "\n",
    "    \n",
    "    def extract_zip_file(self):\n",
    "        \"\"\"\n",
    "        zip_file_path: str\n",
    "        Extracts the zip file into the data directory\n",
    "        Function returns None\n",
    "        \"\"\"\n",
    "        unzip_path = self.config.unzip_dir\n",
    "        os.makedirs(unzip_path, exist_ok=True)\n",
    "        with zipfile.ZipFile(self.config.local_data_file, 'r') as zip_ref:\n",
    "            zip_ref.extractall(unzip_path)\n",
    "    \n",
    "    def split_dataset(self):\n",
    "        path_to_csv = os.path.join(self.config.unzip_dir, self.config.csv_name)\n",
    "        df = pd.read_csv(path_to_csv, sep=';', decimal=',')\n",
    "        before_symbol = df['datetime'].str.split('+').str[0]\n",
    "        df[\"datetime\"] = pd.to_datetime(before_symbol, format=\"%Y.%m.%d %H:%M:%S \")\n",
    "        \n",
    "        df.set_index('datetime', inplace=True)\n",
    "        print(df.index.hour)\n",
    "        df['hour'] = df.index.hour\n",
    "        df['dayofweek'] = df.index.dayofweek\n",
    "        df['quarter'] = df.index.quarter\n",
    "        df['month'] = df.index.month\n",
    "        df['year'] = df.index.year\n",
    "        df['dayofyear'] = df.index.dayofyear\n",
    "        df['minute'] = df.index.minute\n",
    "        start_date = '2021-10-04'\n",
    "        train=df[(df.index<start_date)]\n",
    "        test=df[(df.index>=start_date)]\n",
    "\n",
    "        unzip_path = self.config.unzip_dir\n",
    "        train_csv_name = Path(\"train.csv\")\n",
    "        test_csv_name = Path(\"test.csv\")\n",
    "        train.to_csv(path_or_buf=os.path.join(unzip_path,train_csv_name))\n",
    "        test.to_csv(path_or_buf=os.path.join(unzip_path,test_csv_name))"
   ]
  },
  {
   "cell_type": "code",
   "execution_count": 78,
   "metadata": {},
   "outputs": [
    {
     "name": "stdout",
     "output_type": "stream",
     "text": [
      "[2024-01-26 19:39:40,802: INFO: common: yaml file: config/config.yaml loaded successfully]\n",
      "[2024-01-26 19:39:40,805: INFO: common: yaml file: params.yaml loaded successfully]\n",
      "[2024-01-26 19:39:40,806: INFO: common: created directory at: artifacts]\n",
      "[2024-01-26 19:39:40,807: INFO: common: created directory at: artifacts/data_ingestion]\n",
      "[2024-01-26 19:39:40,809: INFO: 3163113933: File already exists of size: ~ 2532 KB]\n",
      "Index([ 0,  0,  0,  1,  1,  1,  1,  2,  2,  2,\n",
      "       ...\n",
      "       21, 22, 22, 22, 22, 23, 23, 23, 23,  0],\n",
      "      dtype='int32', name='datetime', length=377084)\n",
      "                        power  hour  dayofweek  quarter  month  year  \\\n",
      "datetime                                                               \n",
      "2012-01-01 00:15:00  3767.843     0          6        1      1  2012   \n",
      "2012-01-01 00:30:00  3743.281     0          6        1      1  2012   \n",
      "2012-01-01 00:45:00  3691.766     0          6        1      1  2012   \n",
      "2012-01-01 01:00:00  3645.126     1          6        1      1  2012   \n",
      "2012-01-01 01:15:00  3628.736     1          6        1      1  2012   \n",
      "...                       ...   ...        ...      ...    ...   ...   \n",
      "2022-10-02 23:00:00  4092.252    23          6        4     10  2022   \n",
      "2022-10-02 23:15:00  4049.029    23          6        4     10  2022   \n",
      "2022-10-02 23:30:00  3980.203    23          6        4     10  2022   \n",
      "2022-10-02 23:45:00  3925.905    23          6        4     10  2022   \n",
      "2022-10-03 00:00:00  3879.834     0          0        4     10  2022   \n",
      "\n",
      "                     dayofyear  minute  \n",
      "datetime                                \n",
      "2012-01-01 00:15:00          1      15  \n",
      "2012-01-01 00:30:00          1      30  \n",
      "2012-01-01 00:45:00          1      45  \n",
      "2012-01-01 01:00:00          1       0  \n",
      "2012-01-01 01:15:00          1      15  \n",
      "...                        ...     ...  \n",
      "2022-10-02 23:00:00        275       0  \n",
      "2022-10-02 23:15:00        275      15  \n",
      "2022-10-02 23:30:00        275      30  \n",
      "2022-10-02 23:45:00        275      45  \n",
      "2022-10-03 00:00:00        276       0  \n",
      "\n",
      "[377084 rows x 8 columns]\n"
     ]
    }
   ],
   "source": [
    "try:\n",
    "    config = ConfigurationManager()\n",
    "    data_ingestion_config = config.get_data_ingestion_config()\n",
    "    data_ingestion = DataIngestion(config=data_ingestion_config)\n",
    "    data_ingestion.download_file()\n",
    "    data_ingestion.extract_zip_file()\n",
    "    data_ingestion.split_dataset()\n",
    "except Exception as e:\n",
    "    raise e"
   ]
  },
  {
   "cell_type": "code",
   "execution_count": null,
   "metadata": {},
   "outputs": [],
   "source": []
  },
  {
   "cell_type": "code",
   "execution_count": null,
   "metadata": {},
   "outputs": [],
   "source": []
  }
 ],
 "metadata": {
  "kernelspec": {
   "display_name": "eforecast",
   "language": "python",
   "name": "python3"
  },
  "language_info": {
   "codemirror_mode": {
    "name": "ipython",
    "version": 3
   },
   "file_extension": ".py",
   "mimetype": "text/x-python",
   "name": "python",
   "nbconvert_exporter": "python",
   "pygments_lexer": "ipython3",
   "version": "3.8.18"
  }
 },
 "nbformat": 4,
 "nbformat_minor": 2
}
